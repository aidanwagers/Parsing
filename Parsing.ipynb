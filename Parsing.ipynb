{
 "cells": [
  {
   "cell_type": "markdown",
   "id": "b2f325f2",
   "metadata": {},
   "source": [
    "# Reading in Text"
   ]
  },
  {
   "cell_type": "markdown",
   "id": "1b9c221f",
   "metadata": {},
   "source": [
    "In this section of code I import necessary packages and query the convention database."
   ]
  },
  {
   "cell_type": "code",
   "execution_count": 1,
   "id": "198c71ca",
   "metadata": {},
   "outputs": [
    {
     "name": "stderr",
     "output_type": "stream",
     "text": [
      "[nltk_data] Downloading package stopwords to\n",
      "[nltk_data]     C:\\Users\\aidan\\AppData\\Roaming\\nltk_data...\n",
      "[nltk_data]   Package stopwords is already up-to-date!\n"
     ]
    }
   ],
   "source": [
    "import nltk\n",
    "import sqlite3\n",
    "import spacy\n",
    "from subject_object_extraction import findSVOs\n",
    "from collections import Counter, defaultdict\n",
    "from string import punctuation\n",
    "from nltk.corpus import stopwords\n",
    "nltk.download('stopwords')\n",
    "sw = stopwords.words('english')\n",
    "parser = spacy.load('en_core_web_sm')"
   ]
  },
  {
   "cell_type": "code",
   "execution_count": 8,
   "id": "ed8e8f51",
   "metadata": {},
   "outputs": [],
   "source": [
    "dem_list = list()\n",
    "rep_list = list()\n",
    "\n",
    "convention_db = sqlite3.connect(\"ConventionSpeeches.db\")\n",
    "convention_cur = convention_db.cursor()\n",
    "\n",
    "query_results = convention_cur.execute(\n",
    "                            '''\n",
    "                                SELECT text, party\n",
    "                                FROM conventions\n",
    "                                WHERE speaker != \"Unknown\"\n",
    "                               \n",
    "                                \n",
    "                            ''')\n",
    "\n",
    "\n",
    "convention_data = defaultdict(str)\n",
    "\n",
    "for row in query_results :\n",
    "    text, party = row\n",
    "\n",
    "    # A nice trick to get rid of punctuation\n",
    "    text = \"\".join([w for w in text if w not in punctuation])    \n",
    "    text = [w.lower() for w in text.split() if w.isalpha()]\n",
    "    \n",
    "    convention_data[party] += \" \".join(text) + \" \"\n",
    "    \n"
   ]
  },
  {
   "cell_type": "markdown",
   "id": "d0ed1686",
   "metadata": {},
   "source": [
    "# Strange Fixes"
   ]
  },
  {
   "cell_type": "markdown",
   "id": "8d59e52b",
   "metadata": {},
   "source": [
    "The text in conventionspeeches was way too big, so I made a for loop with help from the internet to cut it down to a workable amount of characters."
   ]
  },
  {
   "cell_type": "code",
   "execution_count": 37,
   "id": "7371a6fb",
   "metadata": {},
   "outputs": [
    {
     "name": "stdout",
     "output_type": "stream",
     "text": [
      "1000000\n",
      "1000000\n"
     ]
    }
   ],
   "source": [
    "dem_split = convention_data[\"Democratic\"]\n",
    "rep_split = convention_data[\"Republican\"]\n",
    "indexCount = 0\n",
    "index2Count = 0\n",
    "\n",
    "demo_string = str()\n",
    "repub_string = str()\n",
    "\n",
    "#https://www.tutorialspoint.com/How-to-get-first-100-characters-of-the-string-in-Python\n",
    "for character in dem_split:\n",
    "    indexCount +=1\n",
    "\n",
    "    if indexCount <=1000000:\n",
    "     \n",
    "      demo_string += character\n",
    "    else:\n",
    "        break\n",
    "for character in rep_split:\n",
    "    index2Count +=1\n",
    "\n",
    "    if index2Count <=1000000:\n",
    "\n",
    "        repub_string += character\n",
    "    else:\n",
    "        break\n",
    "print(len(demo_string))\n",
    "print(len(repub_string))\n"
   ]
  },
  {
   "cell_type": "markdown",
   "id": "1e6eb731",
   "metadata": {},
   "source": [
    "# Parsing"
   ]
  },
  {
   "cell_type": "markdown",
   "id": "9630ea15",
   "metadata": {},
   "source": [
    "Here I do all the parsing work."
   ]
  },
  {
   "cell_type": "code",
   "execution_count": 35,
   "id": "c7d6825c",
   "metadata": {},
   "outputs": [],
   "source": [
    "parsed_repub = parser(repub_string)\n",
    "parsed_democrat = parser(demo_string)\n",
    "democrat_svo = (findSVOs(parsed_democrat))\n",
    "rep_svo = (findSVOs(parsed_repub))\n",
    "count_dem = Counter(democrat_svo)\n",
    "count_rep = Counter(rep_svo)"
   ]
  },
  {
   "cell_type": "markdown",
   "id": "0a5eb9a2",
   "metadata": {},
   "source": [
    "# Results"
   ]
  },
  {
   "cell_type": "markdown",
   "id": "919ead90",
   "metadata": {},
   "source": [
    "The most common SVOs for republicans seem to focus more on God. Republicans ask God to bless you, the states, and America quite a bit more frequently. These SVOs also seem to have a celebratory tone, with SVOs such as \"we,did,it\", \"i,thank,you\", and \"we,have,president\". Republicans also seem to focus more on \"you\" and the president than the democrats."
   ]
  },
  {
   "cell_type": "code",
   "execution_count": 31,
   "id": "9cf9fd94",
   "metadata": {},
   "outputs": [
    {
     "data": {
      "text/plain": [
       "[(('you', 'thank', 'you'), 67),\n",
       " (('i', 'tell', 'you'), 52),\n",
       " (('god', 'bless', 'you'), 51),\n",
       " (('god', 'bless', 'america'), 42),\n",
       " (('god', 'bless', 'states'), 24),\n",
       " (('we', 'need', 'president'), 18),\n",
       " (('me', 'tell', 'you'), 15),\n",
       " (('i', 'thank', 'you'), 11),\n",
       " (('we', 'did', 'it'), 11),\n",
       " (('i', 'talk', 'you'), 10),\n",
       " (('we', 'have', 'president'), 9),\n",
       " (('they', 'get', 'it'), 9),\n",
       " (('we', 'thank', 'you'), 8),\n",
       " (('we', 'need', 'leader'), 8),\n",
       " (('we', 'cut', 'taxes'), 8),\n",
       " (('i', 'stand', 'you'), 8),\n",
       " (('i', 'had', 'privilege'), 8),\n",
       " (('he', 'do', 'it'), 8),\n",
       " (('he', 'told', 'me'), 7),\n",
       " (('i', 'speak', 'you'), 7)]"
      ]
     },
     "execution_count": 31,
     "metadata": {},
     "output_type": "execute_result"
    }
   ],
   "source": [
    "count_rep.most_common(20)"
   ]
  },
  {
   "cell_type": "markdown",
   "id": "a916a79a",
   "metadata": {},
   "source": [
    "The democrats talk about Obama quite a bit, while the Republicans do not even have him in the top 20 SVOs. There also seems to be more talk specific to policy in the top SVOs for the democratic party. Honestly, there aren't too many differences in the SVOs that I find very interesting. My favorite is that both parties take credit for tax cuts."
   ]
  },
  {
   "cell_type": "code",
   "execution_count": 32,
   "id": "653b1e5e",
   "metadata": {
    "scrolled": false
   },
   "outputs": [
    {
     "data": {
      "text/plain": [
       "[(('i', 'tell', 'you'), 33),\n",
       " (('we', 'need', 'president'), 32),\n",
       " (('you', 'thank', 'you'), 31),\n",
       " (('god', 'bless', 'you'), 31),\n",
       " (('god', 'bless', 'america'), 26),\n",
       " (('we', 'do', 'it'), 24),\n",
       " (('me', 'tell', 'you'), 22),\n",
       " (('i', 'seen', 'it'), 17),\n",
       " (('we', 'elect', 'president'), 13),\n",
       " (('we', 'have', 'president'), 13),\n",
       " (('we', '!afford', 'years'), 13),\n",
       " (('we', '!afford', 'more'), 13),\n",
       " (('god', 'bless', 'states'), 11),\n",
       " (('we', 'reelect', 'president'), 10),\n",
       " (('president', 'barack', 'obama'), 10),\n",
       " (('i', 'stand', 'you'), 10),\n",
       " (('we', 'need', 'change'), 10),\n",
       " (('he', 'cut', 'taxes'), 9),\n",
       " (('we', 'elect', 'obama'), 9),\n",
       " (('obama', 'took', 'office'), 8)]"
      ]
     },
     "execution_count": 32,
     "metadata": {},
     "output_type": "execute_result"
    }
   ],
   "source": [
    "count_dem.most_common(20)"
   ]
  }
 ],
 "metadata": {
  "kernelspec": {
   "display_name": "Python 3 (ipykernel)",
   "language": "python",
   "name": "python3"
  },
  "language_info": {
   "codemirror_mode": {
    "name": "ipython",
    "version": 3
   },
   "file_extension": ".py",
   "mimetype": "text/x-python",
   "name": "python",
   "nbconvert_exporter": "python",
   "pygments_lexer": "ipython3",
   "version": "3.9.7"
  }
 },
 "nbformat": 4,
 "nbformat_minor": 5
}
